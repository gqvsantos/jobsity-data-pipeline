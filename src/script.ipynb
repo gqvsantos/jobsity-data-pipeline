{
 "cells": [
  {
   "cell_type": "code",
   "execution_count": 17,
   "metadata": {},
   "outputs": [
    {
     "name": "stdout",
     "output_type": "stream",
     "text": [
      "Collecting tqdm\n",
      "  Downloading tqdm-4.64.0-py2.py3-none-any.whl (78 kB)\n",
      "\u001b[K     |████████████████████████████████| 78 kB 2.8 MB/s eta 0:00:011\n",
      "\u001b[?25hInstalling collected packages: tqdm\n",
      "Successfully installed tqdm-4.64.0\n"
     ]
    }
   ],
   "source": [
    "#import sys\n",
    "#!{sys.executable} -m pip install tqdm"
   ]
  },
  {
   "cell_type": "code",
   "execution_count": 1,
   "metadata": {},
   "outputs": [],
   "source": [
    "import pandas as pd"
   ]
  },
  {
   "cell_type": "code",
   "execution_count": 5,
   "metadata": {},
   "outputs": [],
   "source": [
    "source = 'https://drive.google.com/file/d/14JcOSJAWqKOUNyadVZDPm7FplA7XYhrU/view?usp=sharing'\n",
    "source = 'https://drive.google.com/uc?id=' + source.split('/')[-2]"
   ]
  },
  {
   "cell_type": "code",
   "execution_count": 6,
   "metadata": {},
   "outputs": [],
   "source": [
    "trip_data = pd.read_csv(source)"
   ]
  },
  {
   "cell_type": "code",
   "execution_count": 7,
   "metadata": {},
   "outputs": [
    {
     "data": {
      "text/html": [
       "<div>\n",
       "<style scoped>\n",
       "    .dataframe tbody tr th:only-of-type {\n",
       "        vertical-align: middle;\n",
       "    }\n",
       "\n",
       "    .dataframe tbody tr th {\n",
       "        vertical-align: top;\n",
       "    }\n",
       "\n",
       "    .dataframe thead th {\n",
       "        text-align: right;\n",
       "    }\n",
       "</style>\n",
       "<table border=\"1\" class=\"dataframe\">\n",
       "  <thead>\n",
       "    <tr style=\"text-align: right;\">\n",
       "      <th></th>\n",
       "      <th>region</th>\n",
       "      <th>origin_coord</th>\n",
       "      <th>destination_coord</th>\n",
       "      <th>datetime</th>\n",
       "      <th>datasource</th>\n",
       "    </tr>\n",
       "  </thead>\n",
       "  <tbody>\n",
       "    <tr>\n",
       "      <th>0</th>\n",
       "      <td>Prague</td>\n",
       "      <td>POINT (14.4973794438195 50.00136875782316)</td>\n",
       "      <td>POINT (14.43109483523328 50.04052930943246)</td>\n",
       "      <td>2018-05-28 09:03:40</td>\n",
       "      <td>funny_car</td>\n",
       "    </tr>\n",
       "    <tr>\n",
       "      <th>1</th>\n",
       "      <td>Turin</td>\n",
       "      <td>POINT (7.672837913286881 44.9957109242058)</td>\n",
       "      <td>POINT (7.720368637535126 45.06782385393849)</td>\n",
       "      <td>2018-05-21 02:54:04</td>\n",
       "      <td>baba_car</td>\n",
       "    </tr>\n",
       "    <tr>\n",
       "      <th>2</th>\n",
       "      <td>Prague</td>\n",
       "      <td>POINT (14.32427345662177 50.00002074358429)</td>\n",
       "      <td>POINT (14.47767895969969 50.09339790740321)</td>\n",
       "      <td>2018-05-13 08:52:25</td>\n",
       "      <td>cheap_mobile</td>\n",
       "    </tr>\n",
       "    <tr>\n",
       "      <th>3</th>\n",
       "      <td>Turin</td>\n",
       "      <td>POINT (7.541509189114433 45.09160503827746)</td>\n",
       "      <td>POINT (7.74528653441973 45.02628598341506)</td>\n",
       "      <td>2018-05-06 09:49:16</td>\n",
       "      <td>bad_diesel_vehicles</td>\n",
       "    </tr>\n",
       "    <tr>\n",
       "      <th>4</th>\n",
       "      <td>Turin</td>\n",
       "      <td>POINT (7.614078119815749 45.13433106465422)</td>\n",
       "      <td>POINT (7.527497142312585 45.03335051325654)</td>\n",
       "      <td>2018-05-23 12:45:54</td>\n",
       "      <td>pt_search_app</td>\n",
       "    </tr>\n",
       "  </tbody>\n",
       "</table>\n",
       "</div>"
      ],
      "text/plain": [
       "   region                                 origin_coord  \\\n",
       "0  Prague   POINT (14.4973794438195 50.00136875782316)   \n",
       "1   Turin   POINT (7.672837913286881 44.9957109242058)   \n",
       "2  Prague  POINT (14.32427345662177 50.00002074358429)   \n",
       "3   Turin  POINT (7.541509189114433 45.09160503827746)   \n",
       "4   Turin  POINT (7.614078119815749 45.13433106465422)   \n",
       "\n",
       "                             destination_coord             datetime  \\\n",
       "0  POINT (14.43109483523328 50.04052930943246)  2018-05-28 09:03:40   \n",
       "1  POINT (7.720368637535126 45.06782385393849)  2018-05-21 02:54:04   \n",
       "2  POINT (14.47767895969969 50.09339790740321)  2018-05-13 08:52:25   \n",
       "3   POINT (7.74528653441973 45.02628598341506)  2018-05-06 09:49:16   \n",
       "4  POINT (7.527497142312585 45.03335051325654)  2018-05-23 12:45:54   \n",
       "\n",
       "            datasource  \n",
       "0            funny_car  \n",
       "1             baba_car  \n",
       "2         cheap_mobile  \n",
       "3  bad_diesel_vehicles  \n",
       "4        pt_search_app  "
      ]
     },
     "execution_count": 7,
     "metadata": {},
     "output_type": "execute_result"
    }
   ],
   "source": [
    "trip_data.head()"
   ]
  },
  {
   "cell_type": "code",
   "execution_count": 14,
   "metadata": {},
   "outputs": [],
   "source": [
    "summaries = trip_data.groupby(['origin_coord']).size().reset_index(name='counts')"
   ]
  },
  {
   "cell_type": "code",
   "execution_count": 15,
   "metadata": {},
   "outputs": [],
   "source": [
    "summaries_2 = summaries.loc[summaries['counts'] == 2]"
   ]
  },
  {
   "cell_type": "code",
   "execution_count": 16,
   "metadata": {},
   "outputs": [
    {
     "data": {
      "text/html": [
       "<div>\n",
       "<style scoped>\n",
       "    .dataframe tbody tr th:only-of-type {\n",
       "        vertical-align: middle;\n",
       "    }\n",
       "\n",
       "    .dataframe tbody tr th {\n",
       "        vertical-align: top;\n",
       "    }\n",
       "\n",
       "    .dataframe thead th {\n",
       "        text-align: right;\n",
       "    }\n",
       "</style>\n",
       "<table border=\"1\" class=\"dataframe\">\n",
       "  <thead>\n",
       "    <tr style=\"text-align: right;\">\n",
       "      <th></th>\n",
       "      <th>origin_coord</th>\n",
       "      <th>counts</th>\n",
       "    </tr>\n",
       "  </thead>\n",
       "  <tbody>\n",
       "  </tbody>\n",
       "</table>\n",
       "</div>"
      ],
      "text/plain": [
       "Empty DataFrame\n",
       "Columns: [origin_coord, counts]\n",
       "Index: []"
      ]
     },
     "execution_count": 16,
     "metadata": {},
     "output_type": "execute_result"
    }
   ],
   "source": [
    "summaries_2.head()"
   ]
  },
  {
   "cell_type": "code",
   "execution_count": 9,
   "metadata": {},
   "outputs": [
    {
     "name": "stdout",
     "output_type": "stream",
     "text": [
      "reading file, please stand by\n"
     ]
    },
    {
     "name": "stderr",
     "output_type": "stream",
     "text": [
      " 30%|███       | 3/10 [00:10<00:25,  3.65s/it]\n"
     ]
    },
    {
     "ename": "KeyboardInterrupt",
     "evalue": "",
     "output_type": "error",
     "traceback": [
      "\u001b[0;31m---------------------------------------------------------------------------\u001b[0m",
      "\u001b[0;31mKeyboardInterrupt\u001b[0m                         Traceback (most recent call last)",
      "\u001b[1;32m/home/george/mercafacil/spark-postgres/src/script.ipynb Cell 9'\u001b[0m in \u001b[0;36m<cell line: 5>\u001b[0;34m()\u001b[0m\n\u001b[1;32m      <a href='vscode-notebook-cell://wsl%2Bubuntu/home/george/mercafacil/spark-postgres/src/script.ipynb#ch0000008vscode-remote?line=5'>6</a>\u001b[0m \u001b[39mfor\u001b[39;00m i \u001b[39min\u001b[39;00m tqdm(\u001b[39mrange\u001b[39m(\u001b[39m10\u001b[39m)):\n\u001b[1;32m      <a href='vscode-notebook-cell://wsl%2Bubuntu/home/george/mercafacil/spark-postgres/src/script.ipynb#ch0000008vscode-remote?line=6'>7</a>\u001b[0m     idx \u001b[39m+\u001b[39m\u001b[39m=\u001b[39m \u001b[39m1\u001b[39m\n\u001b[0;32m----> <a href='vscode-notebook-cell://wsl%2Bubuntu/home/george/mercafacil/spark-postgres/src/script.ipynb#ch0000008vscode-remote?line=7'>8</a>\u001b[0m     sleep(\u001b[39m3\u001b[39;49m)\n",
      "\u001b[0;31mKeyboardInterrupt\u001b[0m: "
     ]
    }
   ],
   "source": [
    "from time import sleep\n",
    "from tqdm import tqdm\n",
    "idx = 0\n",
    "print('reading file, please stand by')\n",
    "while idx < 10:\n",
    "    for i in tqdm(range(10)):\n",
    "        idx += 1\n",
    "        sleep(3)\n",
    "\n"
   ]
  },
  {
   "cell_type": "code",
   "execution_count": 10,
   "metadata": {},
   "outputs": [],
   "source": []
  }
 ],
 "metadata": {
  "interpreter": {
   "hash": "916dbcbb3f70747c44a77c7bcd40155683ae19c65e1c03b4aa3499c5328201f1"
  },
  "kernelspec": {
   "display_name": "Python 3.8.10 64-bit",
   "language": "python",
   "name": "python3"
  },
  "language_info": {
   "codemirror_mode": {
    "name": "ipython",
    "version": 3
   },
   "file_extension": ".py",
   "mimetype": "text/x-python",
   "name": "python",
   "nbconvert_exporter": "python",
   "pygments_lexer": "ipython3",
   "version": "3.8.10"
  },
  "orig_nbformat": 4
 },
 "nbformat": 4,
 "nbformat_minor": 2
}
